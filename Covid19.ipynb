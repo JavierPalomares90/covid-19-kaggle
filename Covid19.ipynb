{
 "cells": [
  {
   "cell_type": "markdown",
   "metadata": {},
   "source": [
    "# Covid 19 Dataset from Kaggle\n",
    "## Javier Palomares\n",
    "### March 22, 2020"
   ]
  },
  {
   "cell_type": "markdown",
   "metadata": {},
   "source": [
    "### Dataset Description\n",
    "In response to the COVID-19 pandemic, the White House and a coalition of leading research groups have prepared the COVID-19 Open Research Dataset (CORD-19). CORD-19 is a resource of over 44,000 scholarly articles, including over 29,000 with full text, about COVID-19, SARS-CoV-2, and related coronaviruses. This freely available dataset is provided to the global research community to apply recent advances in natural language processing and other AI techniques to generate new insights in support of the ongoing fight against this infectious disease. There is a growing urgency for these approaches because of the rapid acceleration in new coronavirus literature, making it difficult for the medical research community to keep up.\n",
    "\n",
    "### Call to Action\n",
    "We are issuing a call to action to the world's artificial intelligence experts to develop text and data mining tools that can help the medical community develop answers to high priority scientific questions. The CORD-19 dataset represents the most extensive machine-readable coronavirus literature collection available for data mining to date. This allows the worldwide AI research community the opportunity to apply text and data mining approaches to find answers to questions within, and connect insights across, this content in support of the ongoing COVID-19 response efforts worldwide. There is a growing urgency for these approaches because of the rapid increase in coronavirus literature, making it difficult for the medical community to keep up.\n",
    "\n",
    "A list of our initial key questions can be found under the Tasks section of this dataset. These key scientific questions are drawn from the NASEM’s SCIED (National Academies of Sciences, Engineering, and Medicine’s Standing Committee on Emerging Infectious Diseases and 21st Century Health Threats) research topics and the World Health Organization’s R&D Blueprint for COVID-19.\n",
    "\n",
    "Many of these questions are suitable for text mining, and we encourage researchers to develop text mining tools to provide insights on these questions."
   ]
  },
  {
   "cell_type": "markdown",
   "metadata": {},
   "source": [
    "# Task 1\n",
    "What is known about transmission, incubation, and environmental stability?\n",
    "COVID-19 Open Research Dataset Challenge (CORD-19)\n",
    "\n",
    "\n",
    "## Task Details\n",
    "What is known about transmission, incubation, and environmental stability? What do we know about natural history, transmission, and diagnostics for the virus? What have we learned about infection prevention and control?\n",
    "\n",
    "Specifically, we want to know what the literature reports about:\n",
    "\n",
    "* Range of incubation periods for the disease in humans (and how this varies across age and health status) and how long individuals are contagious, even after recovery.\n",
    "* Prevalence of asymptomatic shedding and transmission (e.g., particularly children).\n",
    "* Seasonality of transmission.\n",
    "* Physical science of the coronavirus (e.g., charge distribution, adhesion to hydrophilic/phobic surfaces, environmental survival to inform decontamination efforts for affected areas and provide information about viral shedding).\n",
    "* Persistence and stability on a multitude of substrates and sources (e.g., nasal discharge, sputum, urine, fecal matter, blood).\n",
    "* Persistence of virus on surfaces of different materials (e,g., copper, stainless steel, plastic).\n",
    "* Natural history of the virus and shedding of it from an infected person\n",
    "* Implementation of diagnostics and products to improve clinical processes\n",
    "* Disease models, including animal models for infection, disease and transmission\n",
    "* Tools and studies to monitor phenotypic change and potential adaptation of the virus\n",
    "* Immune response and immunity\n",
    "* Effectiveness of movement control strategies to prevent secondary transmission in health care and community settings\n",
    "* Effectiveness of personal protective equipment (PPE) and its usefulness to reduce risk of transmission in health care and community settings\n",
    "* Role of the environment in transmission\n",
    "\n",
    "## Expected Submission\n",
    "To be valid, a submission must be contained in a single notebook made public on or before the submission deadline. Participants are free to use additional datasets in addition to the official Kaggle dataset, but those datasets must also be publicly available on either Kaggle, Allen.ai, or Semantic Scholar in order for the submission to be valid. Participants must also accept the competition rules.\n",
    "\n",
    "## Evaluation\n",
    "Submissions will be scored using the following grading rubric:\n",
    "\n",
    "* Accuracy (5 points)\n",
    "* Did the participant accomplish the task?\n",
    "* Did the participant discuss the pros and cons of their approach?\n",
    "* Documentation (5 points)\n",
    "* Is the methodology well documented?\n",
    "* Is the code easy to read and reuse?\n",
    "* Presentation (5 points)\n",
    "* Did the participant communicate their findings in an effective manner?\n",
    "* Did the participant make effective use of data visualizations?\n",
    "## Timeline\n",
    "Submissions will be evaluated in 2 rounds:\n",
    "Round 1: Submission deadline is April 16, 2020 at 11:59pm UTC. Task Submissions which the evaluation committee deems to meet the threshold criteria will be awarded prizes in this initial round.\n",
    "Round 2: Submission deadline is June 16, 2020 at 11:59pm UTC. The hosts may add prize-eligible tasks in round 2. We may also re-award prizes for existing tasks whose submissions have advanced from the prior award, as judged by the evaluation committee."
   ]
  },
  {
   "cell_type": "code",
   "execution_count": null,
   "metadata": {},
   "outputs": [],
   "source": [
    "# Step 1: Download and extract the data\n",
    "import cotools\n",
    "from pprint import pprint\n",
    "\n",
    "cotools.download(dir=\"data\")"
   ]
  },
  {
   "cell_type": "code",
   "execution_count": null,
   "metadata": {},
   "outputs": [],
   "source": []
  }
 ],
 "metadata": {
  "kernelspec": {
   "display_name": "Python 3",
   "language": "python",
   "name": "python3"
  },
  "language_info": {
   "codemirror_mode": {
    "name": "ipython",
    "version": 3
   },
   "file_extension": ".py",
   "mimetype": "text/x-python",
   "name": "python",
   "nbconvert_exporter": "python",
   "pygments_lexer": "ipython3",
   "version": "3.6.9"
  }
 },
 "nbformat": 4,
 "nbformat_minor": 2
}
